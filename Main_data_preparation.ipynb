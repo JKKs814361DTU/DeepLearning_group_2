{
 "nbformat": 4,
 "nbformat_minor": 0,
 "metadata": {
  "kernelspec": {
   "display_name": "Python 3",
   "language": "python",
   "name": "python3"
  },
  "language_info": {
   "codemirror_mode": {
    "name": "ipython",
    "version": 3
   },
   "file_extension": ".py",
   "mimetype": "text/x-python",
   "name": "python",
   "nbconvert_exporter": "python",
   "pygments_lexer": "ipython3",
   "version": "3.7.6"
  },
  "colab": {
   "provenance": [
    {
     "file_id": "https://github.com/facebookresearch/detr/blob/colab/notebooks/detr_attention.ipynb",
     "timestamp": 1667815850596
    }
   ],
   "collapsed_sections": []
  }
 },
 "cells": [
  {
   "cell_type": "markdown",
   "metadata": {
    "id": "AVwdsB6BEY6w"
   },
   "source": [
    "# MAIN\n"
   ]
  },
  {
   "cell_type": "markdown",
   "metadata": {
    "id": "_GQzINI-FBWp"
   },
   "source": [
    "## Preliminaries\n",
    "This section contains the boilerplate necessary for the other sections. Run it first."
   ]
  },
  {
   "cell_type": "code",
   "metadata": {
    "id": "V1OPEeVOYTEV",
    "executionInfo": {
     "status": "ok",
     "timestamp": 1667824493880,
     "user_tz": -60,
     "elapsed": 1411,
     "user": {
      "displayName": "Matteo Sabadin",
      "userId": "17454207113879109586"
     }
    }
   },
   "source": [
    "import math\n",
    "\n",
    "from PIL import Image\n",
    "import requests\n",
    "import matplotlib.pyplot as plt\n",
    "%config InlineBackend.figure_format = 'retina'\n",
    "\n",
    "import ipywidgets as widgets\n",
    "from IPython.display import display, clear_output\n",
    "\n",
    "import torch\n",
    "from torch import nn\n",
    "from torchvision.models import resnet50\n",
    "import torchvision.transforms as T\n",
    "torch.set_grad_enabled(False);\n",
    "import pandas as pd"
   ],
   "execution_count": 2,
   "outputs": []
  },
  {
   "cell_type": "code",
   "source": [
    "import imageio\n",
    "import numpy as np\n",
    "import h5py\n",
    "\n",
    "h5_file = h5py.File(\"/content/mros-visit1-aa0100.h5\", 'r')"
   ],
   "metadata": {
    "id": "RFAaSuoKFcnX",
    "executionInfo": {
     "status": "ok",
     "timestamp": 1667828535279,
     "user_tz": -60,
     "elapsed": 585,
     "user": {
      "displayName": "Matteo Sabadin",
      "userId": "17454207113879109586"
     }
    }
   },
   "execution_count": 156,
   "outputs": []
  },
  {
   "cell_type": "code",
   "source": [
    "h5_file.keys()"
   ],
   "metadata": {
    "colab": {
     "base_uri": "https://localhost:8080/"
    },
    "id": "waymqYXJHMv_",
    "executionInfo": {
     "status": "ok",
     "timestamp": 1667829297998,
     "user_tz": -60,
     "elapsed": 368,
     "user": {
      "displayName": "Matteo Sabadin",
      "userId": "17454207113879109586"
     }
    },
    "outputId": "f3fa9f08-4cb1-43f5-bc48-47f1794071c7"
   },
   "execution_count": 189,
   "outputs": [
    {
     "output_type": "execute_result",
     "data": {
      "text/plain": [
       "<KeysViewHDF5 ['data', 'events', 'stages']>"
      ]
     },
     "metadata": {},
     "execution_count": 189
    }
   ]
  },
  {
   "cell_type": "code",
   "source": [
    "data_ds = h5_file['data']\n",
    "events_ds = h5_file['events']\n",
    "stages_ds = h5_file['stages']\n"
   ],
   "metadata": {
    "id": "SumICISTFci9",
    "executionInfo": {
     "status": "ok",
     "timestamp": 1667828540808,
     "user_tz": -60,
     "elapsed": 273,
     "user": {
      "displayName": "Matteo Sabadin",
      "userId": "17454207113879109586"
     }
    }
   },
   "execution_count": 158,
   "outputs": []
  },
  {
   "cell_type": "markdown",
   "source": [
    "## H5->Data"
   ],
   "metadata": {
    "id": "_P2zjYPjKNr7"
   }
  },
  {
   "cell_type": "code",
   "source": [
    "data_ds.keys()"
   ],
   "metadata": {
    "colab": {
     "base_uri": "https://localhost:8080/"
    },
    "id": "68_pmo8RJS_o",
    "executionInfo": {
     "status": "ok",
     "timestamp": 1667828546626,
     "user_tz": -60,
     "elapsed": 290,
     "user": {
      "displayName": "Matteo Sabadin",
      "userId": "17454207113879109586"
     }
    },
    "outputId": "7cf68072-d767-465a-babc-baf67d47a194"
   },
   "execution_count": 160,
   "outputs": [
    {
     "output_type": "execute_result",
     "data": {
      "text/plain": [
       "<KeysViewHDF5 ['channel_idx', 'fs', 'fs_orig', 'scaled']>"
      ]
     },
     "metadata": {},
     "execution_count": 160
    }
   ]
  },
  {
   "cell_type": "code",
   "source": [
    "data_channel_idx_df = data_ds['channel_idx']\n",
    "data_fs_df = data_ds['fs']\n",
    "data_fs_orig_df = data_ds['fs_orig']\n",
    "data_scaled_df = data_ds['scaled']"
   ],
   "metadata": {
    "id": "j0iQMBz8HVd1",
    "executionInfo": {
     "status": "ok",
     "timestamp": 1667828548229,
     "user_tz": -60,
     "elapsed": 302,
     "user": {
      "displayName": "Matteo Sabadin",
      "userId": "17454207113879109586"
     }
    }
   },
   "execution_count": 161,
   "outputs": []
  },
  {
   "cell_type": "code",
   "source": [
    "data_df = pd.DataFrame() # for some reason it does not become a dataframe, problem is solved after Stages section\n",
    "#data_df['channel_idx'] = pd.DataFrame(data=data_channel_idx_df)\n",
    "#data_df['fs'] = pd.DataFrame(data=data_fs_df)\n",
    "#data_df['fs_orig'] = pd.DataFrame(data=data_fs_orig_df)\n",
    "#data_df['scaled'] = pd.DataFrame(data=data_scaled_df)"
   ],
   "metadata": {
    "id": "ql7Ea5_BJUxH",
    "executionInfo": {
     "status": "ok",
     "timestamp": 1667828560692,
     "user_tz": -60,
     "elapsed": 10,
     "user": {
      "displayName": "Matteo Sabadin",
      "userId": "17454207113879109586"
     }
    }
   },
   "execution_count": 165,
   "outputs": []
  },
  {
   "cell_type": "code",
   "source": [
    "data_df # empty, solved below stages section"
   ],
   "metadata": {
    "colab": {
     "base_uri": "https://localhost:8080/",
     "height": 49
    },
    "id": "HFImCxr1Hlvd",
    "executionInfo": {
     "status": "ok",
     "timestamp": 1667828564616,
     "user_tz": -60,
     "elapsed": 298,
     "user": {
      "displayName": "Matteo Sabadin",
      "userId": "17454207113879109586"
     }
    },
    "outputId": "0c6f2ccc-3dda-4abf-b96f-a86077e531a5"
   },
   "execution_count": 166,
   "outputs": [
    {
     "output_type": "execute_result",
     "data": {
      "text/plain": [
       "Empty DataFrame\n",
       "Columns: []\n",
       "Index: []"
      ],
      "text/html": [
       "\n",
       "  <div id=\"df-4eb06362-1f23-4ce4-81a9-ddd5dd39bc45\">\n",
       "    <div class=\"colab-df-container\">\n",
       "      <div>\n",
       "<style scoped>\n",
       "    .dataframe tbody tr th:only-of-type {\n",
       "        vertical-align: middle;\n",
       "    }\n",
       "\n",
       "    .dataframe tbody tr th {\n",
       "        vertical-align: top;\n",
       "    }\n",
       "\n",
       "    .dataframe thead th {\n",
       "        text-align: right;\n",
       "    }\n",
       "</style>\n",
       "<table border=\"1\" class=\"dataframe\">\n",
       "  <thead>\n",
       "    <tr style=\"text-align: right;\">\n",
       "      <th></th>\n",
       "    </tr>\n",
       "  </thead>\n",
       "  <tbody>\n",
       "  </tbody>\n",
       "</table>\n",
       "</div>\n",
       "      <button class=\"colab-df-convert\" onclick=\"convertToInteractive('df-4eb06362-1f23-4ce4-81a9-ddd5dd39bc45')\"\n",
       "              title=\"Convert this dataframe to an interactive table.\"\n",
       "              style=\"display:none;\">\n",
       "        \n",
       "  <svg xmlns=\"http://www.w3.org/2000/svg\" height=\"24px\"viewBox=\"0 0 24 24\"\n",
       "       width=\"24px\">\n",
       "    <path d=\"M0 0h24v24H0V0z\" fill=\"none\"/>\n",
       "    <path d=\"M18.56 5.44l.94 2.06.94-2.06 2.06-.94-2.06-.94-.94-2.06-.94 2.06-2.06.94zm-11 1L8.5 8.5l.94-2.06 2.06-.94-2.06-.94L8.5 2.5l-.94 2.06-2.06.94zm10 10l.94 2.06.94-2.06 2.06-.94-2.06-.94-.94-2.06-.94 2.06-2.06.94z\"/><path d=\"M17.41 7.96l-1.37-1.37c-.4-.4-.92-.59-1.43-.59-.52 0-1.04.2-1.43.59L10.3 9.45l-7.72 7.72c-.78.78-.78 2.05 0 2.83L4 21.41c.39.39.9.59 1.41.59.51 0 1.02-.2 1.41-.59l7.78-7.78 2.81-2.81c.8-.78.8-2.07 0-2.86zM5.41 20L4 18.59l7.72-7.72 1.47 1.35L5.41 20z\"/>\n",
       "  </svg>\n",
       "      </button>\n",
       "      \n",
       "  <style>\n",
       "    .colab-df-container {\n",
       "      display:flex;\n",
       "      flex-wrap:wrap;\n",
       "      gap: 12px;\n",
       "    }\n",
       "\n",
       "    .colab-df-convert {\n",
       "      background-color: #E8F0FE;\n",
       "      border: none;\n",
       "      border-radius: 50%;\n",
       "      cursor: pointer;\n",
       "      display: none;\n",
       "      fill: #1967D2;\n",
       "      height: 32px;\n",
       "      padding: 0 0 0 0;\n",
       "      width: 32px;\n",
       "    }\n",
       "\n",
       "    .colab-df-convert:hover {\n",
       "      background-color: #E2EBFA;\n",
       "      box-shadow: 0px 1px 2px rgba(60, 64, 67, 0.3), 0px 1px 3px 1px rgba(60, 64, 67, 0.15);\n",
       "      fill: #174EA6;\n",
       "    }\n",
       "\n",
       "    [theme=dark] .colab-df-convert {\n",
       "      background-color: #3B4455;\n",
       "      fill: #D2E3FC;\n",
       "    }\n",
       "\n",
       "    [theme=dark] .colab-df-convert:hover {\n",
       "      background-color: #434B5C;\n",
       "      box-shadow: 0px 1px 3px 1px rgba(0, 0, 0, 0.15);\n",
       "      filter: drop-shadow(0px 1px 2px rgba(0, 0, 0, 0.3));\n",
       "      fill: #FFFFFF;\n",
       "    }\n",
       "  </style>\n",
       "\n",
       "      <script>\n",
       "        const buttonEl =\n",
       "          document.querySelector('#df-4eb06362-1f23-4ce4-81a9-ddd5dd39bc45 button.colab-df-convert');\n",
       "        buttonEl.style.display =\n",
       "          google.colab.kernel.accessAllowed ? 'block' : 'none';\n",
       "\n",
       "        async function convertToInteractive(key) {\n",
       "          const element = document.querySelector('#df-4eb06362-1f23-4ce4-81a9-ddd5dd39bc45');\n",
       "          const dataTable =\n",
       "            await google.colab.kernel.invokeFunction('convertToInteractive',\n",
       "                                                     [key], {});\n",
       "          if (!dataTable) return;\n",
       "\n",
       "          const docLinkHtml = 'Like what you see? Visit the ' +\n",
       "            '<a target=\"_blank\" href=https://colab.research.google.com/notebooks/data_table.ipynb>data table notebook</a>'\n",
       "            + ' to learn more about interactive tables.';\n",
       "          element.innerHTML = '';\n",
       "          dataTable['output_type'] = 'display_data';\n",
       "          await google.colab.output.renderOutput(dataTable, element);\n",
       "          const docLink = document.createElement('div');\n",
       "          docLink.innerHTML = docLinkHtml;\n",
       "          element.appendChild(docLink);\n",
       "        }\n",
       "      </script>\n",
       "    </div>\n",
       "  </div>\n",
       "  "
      ]
     },
     "metadata": {},
     "execution_count": 166
    }
   ]
  },
  {
   "cell_type": "markdown",
   "source": [
    "## H5->Events"
   ],
   "metadata": {
    "id": "JVL8VacqL0qB"
   }
  },
  {
   "cell_type": "code",
   "source": [
    "events_ds.keys()"
   ],
   "metadata": {
    "colab": {
     "base_uri": "https://localhost:8080/"
    },
    "id": "KQ0op6c-HriX",
    "executionInfo": {
     "status": "ok",
     "timestamp": 1667828567839,
     "user_tz": -60,
     "elapsed": 333,
     "user": {
      "displayName": "Matteo Sabadin",
      "userId": "17454207113879109586"
     }
    },
    "outputId": "452b404b-de11-4fb6-ed8a-e56d5d2adc0a"
   },
   "execution_count": 167,
   "outputs": [
    {
     "output_type": "execute_result",
     "data": {
      "text/plain": [
       "<KeysViewHDF5 ['lm']>"
      ]
     },
     "metadata": {},
     "execution_count": 167
    }
   ]
  },
  {
   "cell_type": "code",
   "source": [
    "events_lm_df = events_ds['lm']"
   ],
   "metadata": {
    "id": "fm6jYRZ4Fcff",
    "executionInfo": {
     "status": "ok",
     "timestamp": 1667828569062,
     "user_tz": -60,
     "elapsed": 6,
     "user": {
      "displayName": "Matteo Sabadin",
      "userId": "17454207113879109586"
     }
    }
   },
   "execution_count": 168,
   "outputs": []
  },
  {
   "cell_type": "code",
   "source": [
    "events_lm_df.keys()"
   ],
   "metadata": {
    "colab": {
     "base_uri": "https://localhost:8080/"
    },
    "id": "Kmqlsrv8L9dn",
    "executionInfo": {
     "status": "ok",
     "timestamp": 1667828571761,
     "user_tz": -60,
     "elapsed": 6,
     "user": {
      "displayName": "Matteo Sabadin",
      "userId": "17454207113879109586"
     }
    },
    "outputId": "f9fcecae-4861-4b90-e127-5fee8e47845c"
   },
   "execution_count": 169,
   "outputs": [
    {
     "output_type": "execute_result",
     "data": {
      "text/plain": [
       "<KeysViewHDF5 ['duration', 'start']>"
      ]
     },
     "metadata": {},
     "execution_count": 169
    }
   ]
  },
  {
   "cell_type": "code",
   "source": [
    "events_lm_duration_df = events_lm_df['duration']\n",
    "events_lm_start_df = events_lm_df['start']"
   ],
   "metadata": {
    "id": "jhfsSv2KMRW2",
    "executionInfo": {
     "status": "ok",
     "timestamp": 1667828577485,
     "user_tz": -60,
     "elapsed": 5,
     "user": {
      "displayName": "Matteo Sabadin",
      "userId": "17454207113879109586"
     }
    }
   },
   "execution_count": 170,
   "outputs": []
  },
  {
   "cell_type": "code",
   "source": [
    "events_df = pd.DataFrame()\n",
    "events_df['duration'] = pd.DataFrame(data=events_lm_duration_df)\n",
    "events_df['start'] = pd.DataFrame(data=events_lm_start_df)"
   ],
   "metadata": {
    "id": "zNX0BWmFL9XJ",
    "executionInfo": {
     "status": "ok",
     "timestamp": 1667828584077,
     "user_tz": -60,
     "elapsed": 5,
     "user": {
      "displayName": "Matteo Sabadin",
      "userId": "17454207113879109586"
     }
    }
   },
   "execution_count": 172,
   "outputs": []
  },
  {
   "cell_type": "code",
   "source": [
    "events_df"
   ],
   "metadata": {
    "colab": {
     "base_uri": "https://localhost:8080/",
     "height": 423
    },
    "id": "tIS8YhYML9UT",
    "executionInfo": {
     "status": "ok",
     "timestamp": 1667826498613,
     "user_tz": -60,
     "elapsed": 17,
     "user": {
      "displayName": "Matteo Sabadin",
      "userId": "17454207113879109586"
     }
    },
    "outputId": "242d487e-d130-495d-fdcd-8925c0f5b01f"
   },
   "execution_count": 108,
   "outputs": [
    {
     "output_type": "execute_result",
     "data": {
      "text/plain": [
       "     duration    start\n",
       "0         0.7     20.8\n",
       "1         4.5     26.3\n",
       "2         1.7     29.6\n",
       "3         3.6     69.1\n",
       "4         7.8    119.2\n",
       "..        ...      ...\n",
       "554       8.6  31343.9\n",
       "555       8.1  31344.6\n",
       "556       1.4  31382.3\n",
       "557       2.8  31388.1\n",
       "558       1.3  31454.8\n",
       "\n",
       "[559 rows x 2 columns]"
      ],
      "text/html": [
       "\n",
       "  <div id=\"df-2953b1b5-d610-44cb-bc9d-be4fc2068b54\">\n",
       "    <div class=\"colab-df-container\">\n",
       "      <div>\n",
       "<style scoped>\n",
       "    .dataframe tbody tr th:only-of-type {\n",
       "        vertical-align: middle;\n",
       "    }\n",
       "\n",
       "    .dataframe tbody tr th {\n",
       "        vertical-align: top;\n",
       "    }\n",
       "\n",
       "    .dataframe thead th {\n",
       "        text-align: right;\n",
       "    }\n",
       "</style>\n",
       "<table border=\"1\" class=\"dataframe\">\n",
       "  <thead>\n",
       "    <tr style=\"text-align: right;\">\n",
       "      <th></th>\n",
       "      <th>duration</th>\n",
       "      <th>start</th>\n",
       "    </tr>\n",
       "  </thead>\n",
       "  <tbody>\n",
       "    <tr>\n",
       "      <th>0</th>\n",
       "      <td>0.7</td>\n",
       "      <td>20.8</td>\n",
       "    </tr>\n",
       "    <tr>\n",
       "      <th>1</th>\n",
       "      <td>4.5</td>\n",
       "      <td>26.3</td>\n",
       "    </tr>\n",
       "    <tr>\n",
       "      <th>2</th>\n",
       "      <td>1.7</td>\n",
       "      <td>29.6</td>\n",
       "    </tr>\n",
       "    <tr>\n",
       "      <th>3</th>\n",
       "      <td>3.6</td>\n",
       "      <td>69.1</td>\n",
       "    </tr>\n",
       "    <tr>\n",
       "      <th>4</th>\n",
       "      <td>7.8</td>\n",
       "      <td>119.2</td>\n",
       "    </tr>\n",
       "    <tr>\n",
       "      <th>...</th>\n",
       "      <td>...</td>\n",
       "      <td>...</td>\n",
       "    </tr>\n",
       "    <tr>\n",
       "      <th>554</th>\n",
       "      <td>8.6</td>\n",
       "      <td>31343.9</td>\n",
       "    </tr>\n",
       "    <tr>\n",
       "      <th>555</th>\n",
       "      <td>8.1</td>\n",
       "      <td>31344.6</td>\n",
       "    </tr>\n",
       "    <tr>\n",
       "      <th>556</th>\n",
       "      <td>1.4</td>\n",
       "      <td>31382.3</td>\n",
       "    </tr>\n",
       "    <tr>\n",
       "      <th>557</th>\n",
       "      <td>2.8</td>\n",
       "      <td>31388.1</td>\n",
       "    </tr>\n",
       "    <tr>\n",
       "      <th>558</th>\n",
       "      <td>1.3</td>\n",
       "      <td>31454.8</td>\n",
       "    </tr>\n",
       "  </tbody>\n",
       "</table>\n",
       "<p>559 rows × 2 columns</p>\n",
       "</div>\n",
       "      <button class=\"colab-df-convert\" onclick=\"convertToInteractive('df-2953b1b5-d610-44cb-bc9d-be4fc2068b54')\"\n",
       "              title=\"Convert this dataframe to an interactive table.\"\n",
       "              style=\"display:none;\">\n",
       "        \n",
       "  <svg xmlns=\"http://www.w3.org/2000/svg\" height=\"24px\"viewBox=\"0 0 24 24\"\n",
       "       width=\"24px\">\n",
       "    <path d=\"M0 0h24v24H0V0z\" fill=\"none\"/>\n",
       "    <path d=\"M18.56 5.44l.94 2.06.94-2.06 2.06-.94-2.06-.94-.94-2.06-.94 2.06-2.06.94zm-11 1L8.5 8.5l.94-2.06 2.06-.94-2.06-.94L8.5 2.5l-.94 2.06-2.06.94zm10 10l.94 2.06.94-2.06 2.06-.94-2.06-.94-.94-2.06-.94 2.06-2.06.94z\"/><path d=\"M17.41 7.96l-1.37-1.37c-.4-.4-.92-.59-1.43-.59-.52 0-1.04.2-1.43.59L10.3 9.45l-7.72 7.72c-.78.78-.78 2.05 0 2.83L4 21.41c.39.39.9.59 1.41.59.51 0 1.02-.2 1.41-.59l7.78-7.78 2.81-2.81c.8-.78.8-2.07 0-2.86zM5.41 20L4 18.59l7.72-7.72 1.47 1.35L5.41 20z\"/>\n",
       "  </svg>\n",
       "      </button>\n",
       "      \n",
       "  <style>\n",
       "    .colab-df-container {\n",
       "      display:flex;\n",
       "      flex-wrap:wrap;\n",
       "      gap: 12px;\n",
       "    }\n",
       "\n",
       "    .colab-df-convert {\n",
       "      background-color: #E8F0FE;\n",
       "      border: none;\n",
       "      border-radius: 50%;\n",
       "      cursor: pointer;\n",
       "      display: none;\n",
       "      fill: #1967D2;\n",
       "      height: 32px;\n",
       "      padding: 0 0 0 0;\n",
       "      width: 32px;\n",
       "    }\n",
       "\n",
       "    .colab-df-convert:hover {\n",
       "      background-color: #E2EBFA;\n",
       "      box-shadow: 0px 1px 2px rgba(60, 64, 67, 0.3), 0px 1px 3px 1px rgba(60, 64, 67, 0.15);\n",
       "      fill: #174EA6;\n",
       "    }\n",
       "\n",
       "    [theme=dark] .colab-df-convert {\n",
       "      background-color: #3B4455;\n",
       "      fill: #D2E3FC;\n",
       "    }\n",
       "\n",
       "    [theme=dark] .colab-df-convert:hover {\n",
       "      background-color: #434B5C;\n",
       "      box-shadow: 0px 1px 3px 1px rgba(0, 0, 0, 0.15);\n",
       "      filter: drop-shadow(0px 1px 2px rgba(0, 0, 0, 0.3));\n",
       "      fill: #FFFFFF;\n",
       "    }\n",
       "  </style>\n",
       "\n",
       "      <script>\n",
       "        const buttonEl =\n",
       "          document.querySelector('#df-2953b1b5-d610-44cb-bc9d-be4fc2068b54 button.colab-df-convert');\n",
       "        buttonEl.style.display =\n",
       "          google.colab.kernel.accessAllowed ? 'block' : 'none';\n",
       "\n",
       "        async function convertToInteractive(key) {\n",
       "          const element = document.querySelector('#df-2953b1b5-d610-44cb-bc9d-be4fc2068b54');\n",
       "          const dataTable =\n",
       "            await google.colab.kernel.invokeFunction('convertToInteractive',\n",
       "                                                     [key], {});\n",
       "          if (!dataTable) return;\n",
       "\n",
       "          const docLinkHtml = 'Like what you see? Visit the ' +\n",
       "            '<a target=\"_blank\" href=https://colab.research.google.com/notebooks/data_table.ipynb>data table notebook</a>'\n",
       "            + ' to learn more about interactive tables.';\n",
       "          element.innerHTML = '';\n",
       "          dataTable['output_type'] = 'display_data';\n",
       "          await google.colab.output.renderOutput(dataTable, element);\n",
       "          const docLink = document.createElement('div');\n",
       "          docLink.innerHTML = docLinkHtml;\n",
       "          element.appendChild(docLink);\n",
       "        }\n",
       "      </script>\n",
       "    </div>\n",
       "  </div>\n",
       "  "
      ]
     },
     "metadata": {},
     "execution_count": 108
    }
   ]
  },
  {
   "cell_type": "code",
   "source": [
    "plt.scatter(events_df.index, events_df.duration)\n",
    "plt.title(\"Duration over time\")\n",
    "plt.xlabel(\"Time\")\n",
    "plt.show()"
   ],
   "metadata": {
    "colab": {
     "base_uri": "https://localhost:8080/",
     "height": 294
    },
    "id": "JrbCDxMJNbK3",
    "executionInfo": {
     "status": "ok",
     "timestamp": 1667830197399,
     "user_tz": -60,
     "elapsed": 962,
     "user": {
      "displayName": "Matteo Sabadin",
      "userId": "17454207113879109586"
     }
    },
    "outputId": "253609cf-38f8-467e-a435-bd8c020bf690"
   },
   "execution_count": 219,
   "outputs": [
    {
     "output_type": "display_data",
     "data": {
      "text/plain": [
       "<Figure size 432x288 with 1 Axes>"
      ],
      "image/png": "[encoded data removed]"
     },
     "metadata": {
      "image/png": {
       "width": 362,
       "height": 277
      },
      "needs_background": "light"
     }
    }
   ]
  },
  {
   "cell_type": "code",
   "source": [
    "plt.scatter(events_df.index, events_df.start)\n",
    "plt.title(\"Start time over time\")\n",
    "plt.xlabel(\"Time\")\n",
    "plt.show()"
   ],
   "metadata": {
    "colab": {
     "base_uri": "https://localhost:8080/",
     "height": 294
    },
    "id": "OiCrzSuNNqC8",
    "executionInfo": {
     "status": "ok",
     "timestamp": 1667830193626,
     "user_tz": -60,
     "elapsed": 757,
     "user": {
      "displayName": "Matteo Sabadin",
      "userId": "17454207113879109586"
     }
    },
    "outputId": "aac018b4-827d-4a14-865e-05d056a8d03b"
   },
   "execution_count": 218,
   "outputs": [
    {
     "output_type": "display_data",
     "data": {
      "text/plain": [
       "<Figure size 432x288 with 1 Axes>"
      ],
      "image/png": "[encoded data removed]"
     },
     "metadata": {
      "image/png": {
       "width": 388,
       "height": 277
      },
      "needs_background": "light"
     }
    }
   ]
  },
  {
   "cell_type": "markdown",
   "source": [
    "## H5->stages"
   ],
   "metadata": {
    "id": "YBMlFsmeMpx7"
   }
  },
  {
   "cell_type": "code",
   "source": [
    "stages_df = pd.DataFrame()\n",
    "stages_df['stages'] = pd.DataFrame(data=stages_ds)"
   ],
   "metadata": {
    "id": "nT3U703yL9R3",
    "executionInfo": {
     "status": "ok",
     "timestamp": 1667826517691,
     "user_tz": -60,
     "elapsed": 2445,
     "user": {
      "displayName": "Matteo Sabadin",
      "userId": "17454207113879109586"
     }
    }
   },
   "execution_count": 110,
   "outputs": []
  },
  {
   "cell_type": "code",
   "source": [
    "stages_df[10000:10010]"
   ],
   "metadata": {
    "colab": {
     "base_uri": "https://localhost:8080/",
     "height": 363
    },
    "id": "5Y291zA8L9Pd",
    "executionInfo": {
     "status": "ok",
     "timestamp": 1667832547442,
     "user_tz": -60,
     "elapsed": 21,
     "user": {
      "displayName": "Matteo Sabadin",
      "userId": "17454207113879109586"
     }
    },
    "outputId": "cefcf126-14d8-4de6-fd4f-c41686210885"
   },
   "execution_count": 237,
   "outputs": [
    {
     "output_type": "execute_result",
     "data": {
      "text/plain": [
       "       stages\n",
       "10000       2\n",
       "10001       2\n",
       "10002       2\n",
       "10003       2\n",
       "10004       2\n",
       "10005       2\n",
       "10006       2\n",
       "10007       2\n",
       "10008       2\n",
       "10009       2"
      ],
      "text/html": [
       "\n",
       "  <div id=\"df-8cde02fd-831d-439d-8182-a767c50a4cfc\">\n",
       "    <div class=\"colab-df-container\">\n",
       "      <div>\n",
       "<style scoped>\n",
       "    .dataframe tbody tr th:only-of-type {\n",
       "        vertical-align: middle;\n",
       "    }\n",
       "\n",
       "    .dataframe tbody tr th {\n",
       "        vertical-align: top;\n",
       "    }\n",
       "\n",
       "    .dataframe thead th {\n",
       "        text-align: right;\n",
       "    }\n",
       "</style>\n",
       "<table border=\"1\" class=\"dataframe\">\n",
       "  <thead>\n",
       "    <tr style=\"text-align: right;\">\n",
       "      <th></th>\n",
       "      <th>stages</th>\n",
       "    </tr>\n",
       "  </thead>\n",
       "  <tbody>\n",
       "    <tr>\n",
       "      <th>10000</th>\n",
       "      <td>2</td>\n",
       "    </tr>\n",
       "    <tr>\n",
       "      <th>10001</th>\n",
       "      <td>2</td>\n",
       "    </tr>\n",
       "    <tr>\n",
       "      <th>10002</th>\n",
       "      <td>2</td>\n",
       "    </tr>\n",
       "    <tr>\n",
       "      <th>10003</th>\n",
       "      <td>2</td>\n",
       "    </tr>\n",
       "    <tr>\n",
       "      <th>10004</th>\n",
       "      <td>2</td>\n",
       "    </tr>\n",
       "    <tr>\n",
       "      <th>10005</th>\n",
       "      <td>2</td>\n",
       "    </tr>\n",
       "    <tr>\n",
       "      <th>10006</th>\n",
       "      <td>2</td>\n",
       "    </tr>\n",
       "    <tr>\n",
       "      <th>10007</th>\n",
       "      <td>2</td>\n",
       "    </tr>\n",
       "    <tr>\n",
       "      <th>10008</th>\n",
       "      <td>2</td>\n",
       "    </tr>\n",
       "    <tr>\n",
       "      <th>10009</th>\n",
       "      <td>2</td>\n",
       "    </tr>\n",
       "  </tbody>\n",
       "</table>\n",
       "</div>\n",
       "      <button class=\"colab-df-convert\" onclick=\"convertToInteractive('df-8cde02fd-831d-439d-8182-a767c50a4cfc')\"\n",
       "              title=\"Convert this dataframe to an interactive table.\"\n",
       "              style=\"display:none;\">\n",
       "        \n",
       "  <svg xmlns=\"http://www.w3.org/2000/svg\" height=\"24px\"viewBox=\"0 0 24 24\"\n",
       "       width=\"24px\">\n",
       "    <path d=\"M0 0h24v24H0V0z\" fill=\"none\"/>\n",
       "    <path d=\"M18.56 5.44l.94 2.06.94-2.06 2.06-.94-2.06-.94-.94-2.06-.94 2.06-2.06.94zm-11 1L8.5 8.5l.94-2.06 2.06-.94-2.06-.94L8.5 2.5l-.94 2.06-2.06.94zm10 10l.94 2.06.94-2.06 2.06-.94-2.06-.94-.94-2.06-.94 2.06-2.06.94z\"/><path d=\"M17.41 7.96l-1.37-1.37c-.4-.4-.92-.59-1.43-.59-.52 0-1.04.2-1.43.59L10.3 9.45l-7.72 7.72c-.78.78-.78 2.05 0 2.83L4 21.41c.39.39.9.59 1.41.59.51 0 1.02-.2 1.41-.59l7.78-7.78 2.81-2.81c.8-.78.8-2.07 0-2.86zM5.41 20L4 18.59l7.72-7.72 1.47 1.35L5.41 20z\"/>\n",
       "  </svg>\n",
       "      </button>\n",
       "      \n",
       "  <style>\n",
       "    .colab-df-container {\n",
       "      display:flex;\n",
       "      flex-wrap:wrap;\n",
       "      gap: 12px;\n",
       "    }\n",
       "\n",
       "    .colab-df-convert {\n",
       "      background-color: #E8F0FE;\n",
       "      border: none;\n",
       "      border-radius: 50%;\n",
       "      cursor: pointer;\n",
       "      display: none;\n",
       "      fill: #1967D2;\n",
       "      height: 32px;\n",
       "      padding: 0 0 0 0;\n",
       "      width: 32px;\n",
       "    }\n",
       "\n",
       "    .colab-df-convert:hover {\n",
       "      background-color: #E2EBFA;\n",
       "      box-shadow: 0px 1px 2px rgba(60, 64, 67, 0.3), 0px 1px 3px 1px rgba(60, 64, 67, 0.15);\n",
       "      fill: #174EA6;\n",
       "    }\n",
       "\n",
       "    [theme=dark] .colab-df-convert {\n",
       "      background-color: #3B4455;\n",
       "      fill: #D2E3FC;\n",
       "    }\n",
       "\n",
       "    [theme=dark] .colab-df-convert:hover {\n",
       "      background-color: #434B5C;\n",
       "      box-shadow: 0px 1px 3px 1px rgba(0, 0, 0, 0.15);\n",
       "      filter: drop-shadow(0px 1px 2px rgba(0, 0, 0, 0.3));\n",
       "      fill: #FFFFFF;\n",
       "    }\n",
       "  </style>\n",
       "\n",
       "      <script>\n",
       "        const buttonEl =\n",
       "          document.querySelector('#df-8cde02fd-831d-439d-8182-a767c50a4cfc button.colab-df-convert');\n",
       "        buttonEl.style.display =\n",
       "          google.colab.kernel.accessAllowed ? 'block' : 'none';\n",
       "\n",
       "        async function convertToInteractive(key) {\n",
       "          const element = document.querySelector('#df-8cde02fd-831d-439d-8182-a767c50a4cfc');\n",
       "          const dataTable =\n",
       "            await google.colab.kernel.invokeFunction('convertToInteractive',\n",
       "                                                     [key], {});\n",
       "          if (!dataTable) return;\n",
       "\n",
       "          const docLinkHtml = 'Like what you see? Visit the ' +\n",
       "            '<a target=\"_blank\" href=https://colab.research.google.com/notebooks/data_table.ipynb>data table notebook</a>'\n",
       "            + ' to learn more about interactive tables.';\n",
       "          element.innerHTML = '';\n",
       "          dataTable['output_type'] = 'display_data';\n",
       "          await google.colab.output.renderOutput(dataTable, element);\n",
       "          const docLink = document.createElement('div');\n",
       "          docLink.innerHTML = docLinkHtml;\n",
       "          element.appendChild(docLink);\n",
       "        }\n",
       "      </script>\n",
       "    </div>\n",
       "  </div>\n",
       "  "
      ]
     },
     "metadata": {},
     "execution_count": 237
    }
   ]
  },
  {
   "cell_type": "code",
   "source": [
    "stages_df.stages.plot()\n",
    "plt.title(\"Stages (1-2-3-4) over time\")\n",
    "plt.xlabel(\"Time\")\n",
    "plt.show()"
   ],
   "metadata": {
    "colab": {
     "base_uri": "https://localhost:8080/",
     "height": 294
    },
    "id": "iFjpi2j5L9Kp",
    "executionInfo": {
     "status": "ok",
     "timestamp": 1667831799889,
     "user_tz": -60,
     "elapsed": 734,
     "user": {
      "displayName": "Matteo Sabadin",
      "userId": "17454207113879109586"
     }
    },
    "outputId": "de68f383-2a6e-4563-f6f4-1b4f2409e1bd"
   },
   "execution_count": 232,
   "outputs": [
    {
     "output_type": "display_data",
     "data": {
      "text/plain": [
       "<Figure size 432x288 with 1 Axes>"
      ],
      "image/png": "[encoded data removed]"
     },
     "metadata": {
      "image/png": {
       "width": 372,
       "height": 277
      },
      "needs_background": "light"
     }
    }
   ]
  },
  {
   "cell_type": "markdown",
   "source": [
    "## Array representation, all data"
   ],
   "metadata": {
    "id": "PTr5sVlZY7hZ"
   }
  },
  {
   "cell_type": "code",
   "source": [
    "data = h5py.File('/content/mros-visit1-aa0001.h5', 'r')['data/scaled'][:]\n",
    "print(\"SHAPE: \", data.shape)\n",
    "print(\"\\n\\\"mros-visit1-aa0001.h5\\\": Name of the recording (Rec 1)\")\n",
    "print(\"116: number of segments (or sample) in a recording (they overlap by 5 mins), depends on the recording\")\n",
    "print(\"2: number of  channels\")\n",
    "print(\"38400: number of items in one segment\")\n",
    "print(\"Total time of the recording: 116*5+5= 580mins = 9.7 hours\")\n",
    "print(\"\\nData:\")\n",
    "data"
   ],
   "metadata": {
    "colab": {
     "base_uri": "https://localhost:8080/"
    },
    "id": "ARy_79kdNuT5",
    "executionInfo": {
     "status": "ok",
     "timestamp": 1667832482618,
     "user_tz": -60,
     "elapsed": 12,
     "user": {
      "displayName": "Matteo Sabadin",
      "userId": "17454207113879109586"
     }
    },
    "outputId": "c5237396-c4c3-429b-beae-a6b6bd7cfd3a"
   },
   "execution_count": 236,
   "outputs": [
    {
     "output_type": "stream",
     "name": "stdout",
     "text": [
      "SHAPE:  (104, 2, 38400)\n",
      "\n",
      "\"mros-visit1-aa0001.h5\": Name of the recording (Rec 1)\n",
      "116: number of segments (or sample) in a recording (they overlap by 5 mins), depends on the recording\n",
      "2: number of  channels\n",
      "38400: number of items in one segment\n",
      "Total time of the recording: 116*5+5= 580mins = 9.7 hours\n",
      "\n",
      "Data:\n"
     ]
    },
    {
     "output_type": "execute_result",
     "data": {
      "text/plain": [
       "array([[[ 1.0645336e-04,  1.0645336e-04,  1.0645336e-04, ...,\n",
       "          1.3933164e+00, -6.5122020e-01,  2.3424191e-02],\n",
       "        [ 6.5282168e-04,  6.5282168e-04,  6.5282168e-04, ...,\n",
       "         -2.1046572e+00,  3.7498872e+00,  3.5164857e+00]],\n",
       "\n",
       "       [[ 2.6770514e-01, -5.6945801e-01,  5.3985852e-01, ...,\n",
       "         -1.3326713e+00,  7.9157567e+00, -1.1620175e+00],\n",
       "        [ 8.9293736e-01, -8.8303208e-01,  4.4338116e-01, ...,\n",
       "         -1.2294136e+01, -5.3201323e+00,  1.1224005e+01]],\n",
       "\n",
       "       [[-1.1499962e+00, -3.8980763e+00,  5.0224733e+00, ...,\n",
       "          3.4136581e-01, -6.9837630e-01,  4.7500375e-01],\n",
       "        [ 3.1979432e+00, -3.2571657e+00, -4.2717915e+00, ...,\n",
       "         -5.5920374e-01, -6.8888468e-01,  7.1620440e-01]],\n",
       "\n",
       "       ...,\n",
       "\n",
       "       [[-9.2381555e-01, -6.0879475e-01, -3.1348494e-01, ...,\n",
       "         -1.6652376e+01, -4.5774875e+00, -1.8901333e+00],\n",
       "        [-1.0341345e+00, -6.8596995e-04,  1.1496303e+00, ...,\n",
       "          8.2309771e+00,  2.8400865e+00, -8.8183680e+00]],\n",
       "\n",
       "       [[-1.5910785e-01, -3.1926818e-02, -5.4380834e-01, ...,\n",
       "          2.3743307e-02, -3.5690315e+00, -1.6485029e+00],\n",
       "        [-3.4966731e-01,  2.1051931e-01,  2.6245588e-01, ...,\n",
       "         -2.9729930e-01, -2.0416038e+00, -8.2653356e-01]],\n",
       "\n",
       "       [[-7.1429515e-01,  4.2604623e+00,  1.7995007e+01, ...,\n",
       "         -6.8978506e-01,  5.8917050e+00,  1.0504511e-03],\n",
       "        [-6.4670820e+00,  9.3833561e+00,  2.4114671e+00, ...,\n",
       "         -3.7406662e-01,  5.1370912e+00,  1.4767531e-02]]], dtype=float32)"
      ]
     },
     "metadata": {},
     "execution_count": 236
    }
   ]
  },
  {
   "cell_type": "code",
   "source": [],
   "metadata": {
    "id": "Cxx_2EhlNuRt"
   },
   "execution_count": null,
   "outputs": []
  }
 ]
}
